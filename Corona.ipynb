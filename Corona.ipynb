{
 "cells": [
  {
   "cell_type": "code",
   "execution_count": 1,
   "metadata": {},
   "outputs": [],
   "source": [
    "import pandas\n",
    "from pandas.plotting import scatter_matrix\n",
    "import matplotlib.pyplot as plt\n",
    "from sklearn import model_selection\n",
    "from sklearn.metrics import classification_report\n",
    "from sklearn.metrics import accuracy_score\n",
    "from sklearn.metrics import confusion_matrix\n",
    "from sklearn.linear_model import LogisticRegression\n",
    "from sklearn.tree import DecisionTreeClassifier\n",
    "from sklearn.neighbors import KNeighborsClassifier\n",
    "from sklearn.discriminant_analysis import LinearDiscriminantAnalysis\n",
    "from sklearn.svm import SVC\n",
    "from sklearn.naive_bayes import GaussianNB\n",
    "from sklearn.ensemble import RandomForestClassifier\n",
    "from sklearn.neural_network import MLPClassifier\n",
    "from sklearn.model_selection import train_test_split\n",
    "import argparse"
   ]
  },
  {
   "cell_type": "code",
   "execution_count": 2,
   "metadata": {},
   "outputs": [],
   "source": [
    "dataset=pandas.read_csv('coronaTrain.csv')\n",
    "dataset1=pandas.read_csv('coronaTest.csv')"
   ]
  },
  {
   "cell_type": "code",
   "execution_count": 3,
   "metadata": {},
   "outputs": [
    {
     "name": "stdout",
     "output_type": "stream",
     "text": [
      "(1287, 1002)\n",
      "(1332, 1001)\n"
     ]
    }
   ],
   "source": [
    "print dataset.shape\n",
    "print dataset1.shape"
   ]
  },
  {
   "cell_type": "code",
   "execution_count": 4,
   "metadata": {},
   "outputs": [
    {
     "name": "stdout",
     "output_type": "stream",
     "text": [
      "(1287, 1002)\n"
     ]
    }
   ],
   "source": [
    "print dataset.shape"
   ]
  },
  {
   "cell_type": "code",
   "execution_count": 5,
   "metadata": {},
   "outputs": [
    {
     "name": "stdout",
     "output_type": "stream",
     "text": [
      "             Index             0             1            2            3  \\\n",
      "count  1287.000000   1287.000000   1287.000000  1287.000000  1287.000000   \n",
      "mean    643.000000   1629.098095   1990.819567  1129.283941    50.724176   \n",
      "std     371.669208   5161.980318   4386.405249  2773.048383  2213.418151   \n",
      "min       0.000000 -14305.512737  -9052.749078 -6568.470114 -5463.788448   \n",
      "25%     321.500000  -2093.950549  -1373.121974  -862.786547 -1470.065274   \n",
      "50%     643.000000   1369.815359   1699.172706  1209.078736   -60.637738   \n",
      "75%     964.500000   5022.737447   5088.797048  3174.698825  1386.727350   \n",
      "max    1286.000000  17158.741535  11613.745033  8343.134549  8194.672686   \n",
      "\n",
      "                 4            5            6            7            8  ...  \\\n",
      "count  1287.000000  1287.000000  1287.000000  1287.000000  1287.000000  ...   \n",
      "mean    -42.459297    21.285173   221.591514   404.007616    72.077234  ...   \n",
      "std    1888.550271  1651.832354  1798.487178  1523.901642  1290.994611  ...   \n",
      "min   -6037.460920 -6223.871008 -5548.016126 -4010.621339 -4385.944058  ...   \n",
      "25%   -1205.793602  -976.729323  -958.509848  -661.350062  -812.930674  ...   \n",
      "50%      -5.482826    22.911833   202.564172   286.946388   107.666520  ...   \n",
      "75%    1101.876149  1086.909122  1435.455498  1356.705754   906.235568  ...   \n",
      "max    8032.994089  6218.467270  6603.271928  6061.324441  4930.807227  ...   \n",
      "\n",
      "               991          992          993          994          995  \\\n",
      "count  1287.000000  1287.000000  1287.000000  1287.000000  1287.000000   \n",
      "mean      1.771510    -1.148491    -0.735318    -1.235064     1.288617   \n",
      "std      48.130438    48.139502    46.905048    45.579178    46.774481   \n",
      "min    -166.771585  -162.303174  -184.848157  -144.093777  -130.823342   \n",
      "25%     -28.428370   -30.903691   -33.199479   -30.819898   -28.994233   \n",
      "50%       3.609427    -1.395840    -0.425912    -2.212247     1.927339   \n",
      "75%      33.905273    30.652899    29.397300    27.008235    29.834532   \n",
      "max     178.458469   204.770039   156.361219   179.626540   218.162690   \n",
      "\n",
      "               996          997          998          999       status  \n",
      "count  1287.000000  1287.000000  1287.000000  1287.000000  1287.000000  \n",
      "mean     -1.504959    -1.713376    -3.739277    -0.367846     1.019425  \n",
      "std      44.948367    46.628345    45.271536    47.726086     0.815153  \n",
      "min    -160.377882  -179.272128  -151.093316  -163.556749     0.000000  \n",
      "25%     -30.651926   -31.151780   -31.709577   -30.554923     0.000000  \n",
      "50%      -2.505277    -0.252321    -4.495780     1.926758     1.000000  \n",
      "75%      25.661332    27.829954    23.644932    27.975106     2.000000  \n",
      "max     203.589050   192.921893   137.153708   192.886075     2.000000  \n",
      "\n",
      "[8 rows x 1002 columns]\n"
     ]
    }
   ],
   "source": [
    "print dataset.describe()"
   ]
  },
  {
   "cell_type": "code",
   "execution_count": 6,
   "metadata": {},
   "outputs": [],
   "source": [
    "array = dataset.values\n",
    "x = array[:,0:1001]\n",
    "y = array[:, 1001]\n",
    "validation_size = 0.4\n",
    "seed = 6\n",
    "x_train, x_test, y_train, y_test = model_selection.train_test_split(x, y, test_size = validation_size, random_state = seed)\n",
    "scoring = 'accuracy'"
   ]
  },
  {
   "cell_type": "code",
   "execution_count": 8,
   "metadata": {},
   "outputs": [
    {
     "name": "stdout",
     "output_type": "stream",
     "text": [
      "LR: 0.924892 (0.017114)\n",
      "LDA: 0.561072 (0.067807)\n",
      "KNN: 0.896404 (0.039551)\n",
      "CART: 0.796637 (0.032264)\n",
      "SVM: 0.327839 (0.038470)\n",
      "naive_bayes: 0.716384 (0.043543)\n",
      "Random_Forest: 0.728089 (0.048200)\n",
      "mlp: 0.862821 (0.041790)\n"
     ]
    }
   ],
   "source": [
    "models = []\n",
    "models.append(('LR', LogisticRegression()))\n",
    "models.append(('LDA', LinearDiscriminantAnalysis()))\n",
    "models.append(('KNN', KNeighborsClassifier()))\n",
    "models.append(('CART', DecisionTreeClassifier()))\n",
    "models.append(('SVM', SVC()))\n",
    "models.append(('naive_bayes', GaussianNB()))\n",
    "models.append(('Random_Forest', RandomForestClassifier()))\n",
    "models.append(('mlp', MLPClassifier()))\n",
    "result = []\n",
    "names = []\n",
    "for name, model in models:\n",
    "    kfold = model_selection.KFold(n_splits=10, random_state=seed)\n",
    "    cv_result = model_selection.cross_val_score(model, x_train, y_train, cv = kfold, scoring = scoring,)\n",
    "    result.append(cv_result)\n",
    "    names.append(name)\n",
    "    mag = '%s: %f (%f)' % (name, cv_result.mean(), cv_result.std())\n",
    "    print mag"
   ]
  },
  {
   "cell_type": "markdown",
   "metadata": {},
   "source": [
    "print y_train\n",
    "y_train.shape"
   ]
  },
  {
   "cell_type": "code",
   "execution_count": null,
   "metadata": {},
   "outputs": [],
   "source": []
  },
  {
   "cell_type": "code",
   "execution_count": 30,
   "metadata": {},
   "outputs": [],
   "source": []
  },
  {
   "cell_type": "code",
   "execution_count": 32,
   "metadata": {},
   "outputs": [],
   "source": []
  },
  {
   "cell_type": "code",
   "execution_count": null,
   "metadata": {},
   "outputs": [],
   "source": []
  },
  {
   "cell_type": "code",
   "execution_count": null,
   "metadata": {},
   "outputs": [],
   "source": []
  },
  {
   "cell_type": "code",
   "execution_count": null,
   "metadata": {},
   "outputs": [],
   "source": []
  },
  {
   "cell_type": "code",
   "execution_count": null,
   "metadata": {},
   "outputs": [],
   "source": []
  }
 ],
 "metadata": {
  "kernelspec": {
   "display_name": "Python 2",
   "language": "python",
   "name": "python2"
  },
  "language_info": {
   "codemirror_mode": {
    "name": "ipython",
    "version": 2
   },
   "file_extension": ".py",
   "mimetype": "text/x-python",
   "name": "python",
   "nbconvert_exporter": "python",
   "pygments_lexer": "ipython2",
   "version": "2.7.16"
  }
 },
 "nbformat": 4,
 "nbformat_minor": 2
}
